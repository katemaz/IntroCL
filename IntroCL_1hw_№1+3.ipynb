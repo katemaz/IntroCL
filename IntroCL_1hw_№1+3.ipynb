{
 "cells": [
  {
   "cell_type": "code",
   "execution_count": 1,
   "metadata": {},
   "outputs": [],
   "source": [
    "text = '''In a hole in the ground there lived a hobbit. Not a nasty, dirty, wet hole, filled with the ends of worms and an oozy smell, nor yet a dry, bare, sandy hole with nothing in it to sit down on or to eat: it was a hobbit-hole, and that means comfort. It had a perfectly round door like a porthole, painted green, with a shiny yellow brass knob in the exact middle. The door opened on to a tube-shaped hall like a tunnel: a very comfortable tunnel without smoke, with panelled walls, and floors tiled and carpeted, provided with polished chairs, and lots and lots of pegs for hats and coats - the hobbit was fond of visitors. The tunnel wound on and on, going fairly but not quite straight into the side of the hill - The Hill, as all the people for many miles round called it - and many little round doors opened out of it, first on one side and then on another. No going upstairs for the hobbit: bedrooms, bathrooms, cellars, pantries (lots of these), wardrobes (he had whole rooms devoted to clothes), kitchens, dining-rooms, all were on the same floor, and indeed on the same passage. The best rooms were all on the lefthand side (going in), for these were the only ones to have windows, deep-set round windows looking over his garden, and meadows beyond, sloping down to the river.'''"
   ]
  },
  {
   "cell_type": "code",
   "execution_count": 6,
   "metadata": {},
   "outputs": [],
   "source": [
    "import string\n",
    "from nltk.tokenize import word_tokenize\n",
    "from nltk.util import everygrams\n",
    "from collections import Counter"
   ]
  },
  {
   "cell_type": "code",
   "execution_count": 5,
   "metadata": {},
   "outputs": [],
   "source": [
    "table = str.maketrans('','',string.punctuation)\n",
    "def punct(text): #убираем из текста пунктуацию и приводим к одному регистру\n",
    "    for i in text:\n",
    "        text_wo_punct = text.translate(table) \n",
    "        f_text = text_wo_punct.lower()\n",
    "    return f_text\n",
    "final_text = punct(text) #текст без пунктуации, одного регистра \n",
    "\n",
    "cleaned_text = list((final_text).replace(' ','')) #разделяем текст на символы, убираем лишние пробелы "
   ]
  },
  {
   "cell_type": "code",
   "execution_count": 7,
   "metadata": {},
   "outputs": [],
   "source": [
    "BPE = set(cleaned_text) #создаем словарь"
   ]
  },
  {
   "cell_type": "code",
   "execution_count": 8,
   "metadata": {},
   "outputs": [],
   "source": [
    "allgrams = everygrams(cleaned_text) #получаем н-граммы из текста\n",
    "frequency = Counter(list(allgrams)) #считаем частотность н-граммм"
   ]
  },
  {
   "cell_type": "code",
   "execution_count": null,
   "metadata": {},
   "outputs": [],
   "source": [
    "while len(BPE) < 250: #добавляем необходимое количество токенов в словарь, вмето 400 я написала 250, т.к. с >250 код очень долго грузится)\n",
    "    for key, value in frequency.items():\n",
    "        if value > 2:\n",
    "            x = ''.join(key)\n",
    "            BPE.add(x)"
   ]
  },
  {
   "cell_type": "code",
   "execution_count": null,
   "metadata": {},
   "outputs": [],
   "source": [
    "print(BPE)"
   ]
  },
  {
   "cell_type": "markdown",
   "metadata": {},
   "source": [
    "#3\n",
    "1. r\"([a-zA-Z0-9_-]+)@([a-z]+\\.[a-z]{2,})\"\n",
    "\n",
    "2. r\"([a-zA-Z]:\\\\|\\/)?([^\\/\\\\\\0]+[\\/\\\\])*[^\\/\\\\\\0]+$\"\n",
    "\n",
    "3. 1) для поиска сем. роли r\"\\[\\s*(\\w+):\"\n",
    "2) словоформы r\"([^\"]+)\"\n",
    "3) леммы\n",
    "4) лексического класса r\":([^\":]+):\"\n",
    "5) семантического класса"
   ]
  }
 ],
 "metadata": {
  "kernelspec": {
   "display_name": "Python 3",
   "language": "python",
   "name": "python3"
  },
  "language_info": {
   "codemirror_mode": {
    "name": "ipython",
    "version": 3
   },
   "file_extension": ".py",
   "mimetype": "text/x-python",
   "name": "python",
   "nbconvert_exporter": "python",
   "pygments_lexer": "ipython3",
   "version": "3.11.9"
  }
 },
 "nbformat": 4,
 "nbformat_minor": 2
}
